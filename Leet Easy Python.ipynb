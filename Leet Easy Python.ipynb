{
 "cells": [
  {
   "cell_type": "markdown",
   "id": "58118cb8",
   "metadata": {},
   "source": [
    "### 1929. Concatenation of Array"
   ]
  },
  {
   "cell_type": "raw",
   "id": "f7b61097",
   "metadata": {},
   "source": [
    "Given an integer array nums of length n, you want to create an array ans of length 2n where ans[i] == nums[i] and ans[i + n] == nums[i] for 0 <= i < n (0-indexed).\n",
    "\n",
    "Specifically, ans is the concatenation of two nums arrays.\n",
    "\n",
    "Return the array ans.\n",
    "\n",
    " \n",
    "\n",
    "Example 1:\n",
    "\n",
    "Input: nums = [1,2,1]\n",
    "Output: [1,2,1,1,2,1]\n",
    "Explanation: The array ans is formed as follows:\n",
    "- ans = [nums[0],nums[1],nums[2],nums[0],nums[1],nums[2]]\n",
    "- ans = [1,2,1,1,2,1]\n",
    "Example 2:\n",
    "\n",
    "Input: nums = [1,3,2,1]\n",
    "Output: [1,3,2,1,1,3,2,1]\n",
    "Explanation: The array ans is formed as follows:\n",
    "- ans = [nums[0],nums[1],nums[2],nums[3],nums[0],nums[1],nums[2],nums[3]]\n",
    "- ans = [1,3,2,1,1,3,2,1]\n",
    " \n",
    "\n",
    "Constraints:\n",
    "\n",
    "n == nums.length\n",
    "1 <= n <= 1000\n",
    "1 <= nums[i] <= 1000"
   ]
  },
  {
   "cell_type": "code",
   "execution_count": 46,
   "id": "aa5059cc",
   "metadata": {},
   "outputs": [],
   "source": [
    "class Solution:\n",
    "    def ConcatenationArray(self,nums:list[int])->list[int]:\n",
    "        return nums*2\n",
    "    \n",
    "    def ConcatenationArray2(self, nums:list[int]) -> list[int]:\n",
    "        nums.extend(nums)\n",
    "        return nums\n",
    "    \n",
    "    def ConcatenationArray3(self, nums:list[int]) -> list[int]:\n",
    "        l1 = []\n",
    "        for i in range(2):\n",
    "            for j in range(len(nums)):\n",
    "                l1.append(nums[j])\n",
    "        return l1"
   ]
  },
  {
   "cell_type": "code",
   "execution_count": 47,
   "id": "89862887",
   "metadata": {},
   "outputs": [],
   "source": [
    "nums = [1,2,1]"
   ]
  },
  {
   "cell_type": "code",
   "execution_count": 48,
   "id": "8ace66ad",
   "metadata": {},
   "outputs": [],
   "source": [
    "object1 = Solution()\n",
    "result = object1.ConcatenationArray3(nums)"
   ]
  },
  {
   "cell_type": "code",
   "execution_count": 49,
   "id": "080535e3",
   "metadata": {},
   "outputs": [
    {
     "name": "stdout",
     "output_type": "stream",
     "text": [
      "[1, 2, 1, 1, 2, 1]\n"
     ]
    }
   ],
   "source": [
    "print(result)"
   ]
  },
  {
   "cell_type": "code",
   "execution_count": null,
   "id": "cf0febf0",
   "metadata": {},
   "outputs": [],
   "source": []
  },
  {
   "cell_type": "markdown",
   "id": "c7af0b1c",
   "metadata": {},
   "source": [
    "### 1920. Build Array from Permutation"
   ]
  },
  {
   "cell_type": "raw",
   "id": "c1616ebb",
   "metadata": {},
   "source": [
    "Given a zero-based permutation nums (0-indexed), build an array ans of the same length where ans[i] = nums[nums[i]] for each 0 <= i < nums.length and return it.\n",
    "A zero-based permutation nums is an array of distinct integers from 0 to nums.length - 1 (inclusive).\n",
    "\n",
    "\n",
    "Example 1:\n",
    "\n",
    "Input: nums = [0,2,1,5,3,4]\n",
    "Output: [0,1,2,4,5,3]\n",
    "Explanation: The array ans is built as follows: \n",
    "ans = [nums[nums[0]], nums[nums[1]], nums[nums[2]], nums[nums[3]], nums[nums[4]], nums[nums[5]]]\n",
    "    = [nums[0], nums[2], nums[1], nums[5], nums[3], nums[4]]\n",
    "    = [0,1,2,4,5,3]\n",
    "Example 2:\n",
    "\n",
    "Input: nums = [5,0,1,2,3,4]\n",
    "Output: [4,5,0,1,2,3]\n",
    "Explanation: The array ans is built as follows:\n",
    "ans = [nums[nums[0]], nums[nums[1]], nums[nums[2]], nums[nums[3]], nums[nums[4]], nums[nums[5]]]\n",
    "    = [nums[5], nums[0], nums[1], nums[2], nums[3], nums[4]]\n",
    "    = [4,5,0,1,2,3]\n",
    " \n",
    "Constraints:\n",
    "\n",
    "1 <= nums.length <= 1000\n",
    "0 <= nums[i] < nums.length\n",
    "The elements in nums are distinct.\n",
    "\n",
    "Follow-up: Can you solve it without using an extra space (i.e., O(1) memory)?"
   ]
  },
  {
   "cell_type": "code",
   "execution_count": 9,
   "id": "cb1d6c1b",
   "metadata": {},
   "outputs": [],
   "source": [
    "#python\n",
    "class Solution:\n",
    "    def buildArray(self,nums):\n",
    "        result = []\n",
    "        for i in nums:\n",
    "            result.append(nums[i])\n",
    "        return result"
   ]
  },
  {
   "cell_type": "code",
   "execution_count": 13,
   "id": "75648ed5",
   "metadata": {},
   "outputs": [],
   "source": [
    "nums = [5,0,1,2,3,4]"
   ]
  },
  {
   "cell_type": "code",
   "execution_count": 11,
   "id": "5148e13f",
   "metadata": {},
   "outputs": [
    {
     "name": "stdout",
     "output_type": "stream",
     "text": [
      "[4, 5, 0, 1, 2, 3]\n"
     ]
    }
   ],
   "source": [
    "solution = Solution()\n",
    "ab = solution.buildArray(nums)\n",
    "print(ab)"
   ]
  },
  {
   "cell_type": "code",
   "execution_count": 14,
   "id": "703c0c69",
   "metadata": {},
   "outputs": [],
   "source": [
    "#python3\n",
    "\n",
    "class Solution:\n",
    "    def buildArray(self,nums:list[int]) -> list[int]:\n",
    "        result = []\n",
    "        for i in nums:\n",
    "            result.append(nums[i])\n",
    "            \n",
    "        return result"
   ]
  },
  {
   "cell_type": "code",
   "execution_count": 15,
   "id": "f5d3dd6e",
   "metadata": {},
   "outputs": [
    {
     "name": "stdout",
     "output_type": "stream",
     "text": [
      "[4, 5, 0, 1, 2, 3]\n"
     ]
    }
   ],
   "source": [
    "solution = Solution()\n",
    "ab1= solution.buildArray(nums)\n",
    "print(ab1)"
   ]
  },
  {
   "cell_type": "markdown",
   "id": "55a7b115",
   "metadata": {},
   "source": [
    "### 3190. Find Minimum Operations to Make All Elements Divisible by Three\n"
   ]
  },
  {
   "cell_type": "raw",
   "id": "c9d218cb",
   "metadata": {},
   "source": [
    "You are given an integer array nums. In one operation, you can add or subtract 1 from any element of nums.\n",
    "\n",
    "Return the minimum number of operations to make all elements of nums divisible by 3.\n",
    "\n",
    " \n",
    "\n",
    "Example 1:\n",
    "\n",
    "Input: nums = [1,2,3,4]\n",
    "\n",
    "Output: 3\n",
    "\n",
    "Explanation:\n",
    "\n",
    "All array elements can be made divisible by 3 using 3 operations:\n",
    "\n",
    "Subtract 1 from 1.\n",
    "Add 1 to 2.\n",
    "Subtract 1 from 4.\n",
    "Example 2:\n",
    "\n",
    "Input: nums = [3,6,9]\n",
    "\n",
    "Output: 0\n",
    "\n",
    " \n",
    "\n",
    "Constraints:\n",
    "\n",
    "1 <= nums.length <= 50\n",
    "1 <= nums[i] <= 50"
   ]
  },
  {
   "cell_type": "code",
   "execution_count": 25,
   "id": "600c0b82",
   "metadata": {},
   "outputs": [],
   "source": [
    "#python\n",
    "class Solution():\n",
    "    def minimumOperations(self, nums):\n",
    "        a = 0\n",
    "        for num in nums:\n",
    "            if num % 3 != 0:\n",
    "                a += 1\n",
    "        return a"
   ]
  },
  {
   "cell_type": "code",
   "execution_count": 38,
   "id": "0c354a54",
   "metadata": {},
   "outputs": [],
   "source": [
    "nums = [1,2,3,4]"
   ]
  },
  {
   "cell_type": "code",
   "execution_count": 27,
   "id": "9e882655",
   "metadata": {},
   "outputs": [
    {
     "name": "stdout",
     "output_type": "stream",
     "text": [
      "4\n"
     ]
    }
   ],
   "source": [
    "solution = Solution()\n",
    "ab2 = solution.minimumOperations(nums)\n",
    "print(ab2)"
   ]
  },
  {
   "cell_type": "code",
   "execution_count": 39,
   "id": "45b74666",
   "metadata": {},
   "outputs": [],
   "source": [
    "#python3\n",
    "class Solution():\n",
    "    def miniOperations(self,nums:list[int]) -> int:\n",
    "        a=0\n",
    "        for num in nums:\n",
    "            if num%3 != 0:\n",
    "                a+=1\n",
    "        return a"
   ]
  },
  {
   "cell_type": "code",
   "execution_count": 40,
   "id": "05ed244d",
   "metadata": {},
   "outputs": [
    {
     "name": "stdout",
     "output_type": "stream",
     "text": [
      "3\n"
     ]
    }
   ],
   "source": [
    "solution = Solution()\n",
    "ab= solution.miniOperations(nums)\n",
    "print(ab)"
   ]
  },
  {
   "cell_type": "code",
   "execution_count": 41,
   "id": "de9d5ff8",
   "metadata": {},
   "outputs": [
    {
     "data": {
      "text/plain": [
       "'\\ndef minOperations(nums):\\n    count_0 = count_1 = count_2 = 0\\n    \\n    # Count the number of elements with remainders 0, 1, and 2\\n    for num in nums:\\n        remainder = num % 3\\n        if remainder == 0:\\n            count_0 += 1\\n        elif remainder == 1:\\n            count_1 += 1\\n        elif remainder == 2:\\n            count_2 += 1\\n    \\n    # Calculate the total cost\\n    # Convert all remainder 1 to 0 with minimum operations\\n    cost1 = min(count_1, count_1 * 2)\\n    # Convert all remainder 2 to 0 with minimum operations\\n    cost2 = min(count_2, count_2 * 2)\\n    \\n    # The total minimum cost is the sum of converting remainder 1 and 2\\n    return cost1 + cost2\\n\\n# Example usage\\nnums = [2,4,6,4]\\nprint(minOperations(nums))  # Output the result\\n'"
      ]
     },
     "execution_count": 41,
     "metadata": {},
     "output_type": "execute_result"
    }
   ],
   "source": [
    "'''\n",
    "def minOperations(nums):\n",
    "    count_0 = count_1 = count_2 = 0\n",
    "    \n",
    "    # Count the number of elements with remainders 0, 1, and 2\n",
    "    for num in nums:\n",
    "        remainder = num % 3\n",
    "        if remainder == 0:\n",
    "            count_0 += 1\n",
    "        elif remainder == 1:\n",
    "            count_1 += 1\n",
    "        elif remainder == 2:\n",
    "            count_2 += 1\n",
    "    \n",
    "    # Calculate the total cost\n",
    "    # Convert all remainder 1 to 0 with minimum operations\n",
    "    cost1 = min(count_1, count_1 * 2)\n",
    "    # Convert all remainder 2 to 0 with minimum operations\n",
    "    cost2 = min(count_2, count_2 * 2)\n",
    "    \n",
    "    # The total minimum cost is the sum of converting remainder 1 and 2\n",
    "    return cost1 + cost2\n",
    "\n",
    "# Example usage\n",
    "nums = [2,4,6,4]\n",
    "print(minOperations(nums))  # Output the result\n",
    "'''"
   ]
  },
  {
   "cell_type": "code",
   "execution_count": null,
   "id": "203d779a",
   "metadata": {},
   "outputs": [],
   "source": []
  },
  {
   "cell_type": "markdown",
   "id": "de12c224",
   "metadata": {},
   "source": [
    "### 2011. Final Value of Variable After Performing Operations"
   ]
  },
  {
   "cell_type": "code",
   "execution_count": null,
   "id": "5124d07f",
   "metadata": {},
   "outputs": [],
   "source": [
    "There is a programming language with only four operations and one variable X:\n",
    "\n",
    "++X and X++ increments the value of the variable X by 1.\n",
    "--X and X-- decrements the value of the variable X by 1.\n",
    "Initially, the value of X is 0.\n",
    "\n",
    "Given an array of strings operations containing a list of operations, return the final value of X after performing all the operations.\n",
    "\n",
    " \n",
    "\n",
    "Example 1:\n",
    "\n",
    "Input: operations = [\"--X\",\"X++\",\"X++\"]\n",
    "Output: 1\n",
    "Explanation: The operations are performed as follows:\n",
    "Initially, X = 0.\n",
    "--X: X is decremented by 1, X =  0 - 1 = -1.\n",
    "X++: X is incremented by 1, X = -1 + 1 =  0.\n",
    "X++: X is incremented by 1, X =  0 + 1 =  1.\n",
    "Example 2:\n",
    "\n",
    "Input: operations = [\"++X\",\"++X\",\"X++\"]\n",
    "Output: 3\n",
    "Explanation: The operations are performed as follows:\n",
    "Initially, X = 0.\n",
    "++X: X is incremented by 1, X = 0 + 1 = 1.\n",
    "++X: X is incremented by 1, X = 1 + 1 = 2.\n",
    "X++: X is incremented by 1, X = 2 + 1 = 3.\n",
    "Example 3:\n",
    "\n",
    "Input: operations = [\"X++\",\"++X\",\"--X\",\"X--\"]\n",
    "Output: 0\n",
    "Explanation: The operations are performed as follows:\n",
    "Initially, X = 0.\n",
    "X++: X is incremented by 1, X = 0 + 1 = 1.\n",
    "++X: X is incremented by 1, X = 1 + 1 = 2.\n",
    "--X: X is decremented by 1, X = 2 - 1 = 1.\n",
    "X--: X is decremented by 1, X = 1 - 1 = 0.\n",
    " \n",
    "\n",
    "Constraints:\n",
    "\n",
    "1 <= operations.length <= 100\n",
    "operations[i] will be either \"++X\", \"X++\", \"--X\", or \"X--\"."
   ]
  },
  {
   "cell_type": "code",
   "execution_count": 51,
   "id": "48999a90",
   "metadata": {},
   "outputs": [],
   "source": [
    "class Solution:\n",
    "    def finalValueAfterOperations(self,operations:list[str]) -> int:\n",
    "        c = 0\n",
    "        for i in operations:\n",
    "            if i in {\"++X\",\"X++\"}:\n",
    "                c+=1\n",
    "            else:\n",
    "                c-=1\n",
    "        return c"
   ]
  },
  {
   "cell_type": "code",
   "execution_count": 52,
   "id": "815d1190",
   "metadata": {},
   "outputs": [],
   "source": [
    " operations = [\"X++\",\"++X\",\"--X\",\"X--\"]"
   ]
  },
  {
   "cell_type": "code",
   "execution_count": 53,
   "id": "d5dc4a3f",
   "metadata": {},
   "outputs": [
    {
     "name": "stdout",
     "output_type": "stream",
     "text": [
      "0\n"
     ]
    }
   ],
   "source": [
    "solution = Solution()\n",
    "ab = solution.finalValueAfterOperations(operations)\n",
    "print(ab)"
   ]
  },
  {
   "cell_type": "code",
   "execution_count": null,
   "id": "ad01b707",
   "metadata": {},
   "outputs": [],
   "source": []
  },
  {
   "cell_type": "markdown",
   "id": "2ff55de6",
   "metadata": {},
   "source": [
    "### 1512. Number of Good Pairs"
   ]
  },
  {
   "cell_type": "code",
   "execution_count": null,
   "id": "60fbb818",
   "metadata": {},
   "outputs": [],
   "source": [
    "\n",
    "Given an array of integers nums, return the number of good pairs.\n",
    "\n",
    "A pair (i, j) is called good if nums[i] == nums[j] and i < j.\n",
    "\n",
    " \n",
    "\n",
    "Example 1:\n",
    "\n",
    "Input: nums = [1,2,3,1,1,3]\n",
    "Output: 4\n",
    "Explanation: There are 4 good pairs (0,3), (0,4), (3,4), (2,5) 0-indexed.\n",
    "Example 2:\n",
    "\n",
    "Input: nums = [1,1,1,1]\n",
    "Output: 6\n",
    "Explanation: Each pair in the array are good.\n",
    "Example 3:\n",
    "\n",
    "Input: nums = [1,2,3]\n",
    "Output: 0\n",
    " \n",
    "\n",
    "Constraints:\n",
    "\n",
    "1 <= nums.length <= 100\n",
    "1 <= nums[i] <= 100"
   ]
  },
  {
   "cell_type": "code",
   "execution_count": 22,
   "id": "d03749e7",
   "metadata": {},
   "outputs": [],
   "source": [
    "nums = [1,1,1,1]"
   ]
  },
  {
   "cell_type": "code",
   "execution_count": 48,
   "id": "6b7dc6dd",
   "metadata": {},
   "outputs": [],
   "source": [
    "class Solution:\n",
    "    def goodPair(self,nums:list[int])->int:\n",
    "        l1 = 0\n",
    "        for i in range(len(nums)):\n",
    "            for j in range(i+1,len(nums)):\n",
    "                if nums[i] == nums[j] and i<j:\n",
    "                    l1+=1\n",
    "        return l1"
   ]
  },
  {
   "cell_type": "code",
   "execution_count": 49,
   "id": "acec28f6",
   "metadata": {
    "scrolled": true
   },
   "outputs": [],
   "source": [
    "solution = Solution()\n",
    "ab = solution.goodPair(nums)"
   ]
  },
  {
   "cell_type": "code",
   "execution_count": 50,
   "id": "6c59295c",
   "metadata": {},
   "outputs": [
    {
     "name": "stdout",
     "output_type": "stream",
     "text": [
      "6\n"
     ]
    }
   ],
   "source": [
    "print(ab)"
   ]
  },
  {
   "cell_type": "code",
   "execution_count": 51,
   "id": "a4cfa372",
   "metadata": {},
   "outputs": [],
   "source": [
    "#l1 = []\n",
    "#for i in range(len(nums)):\n",
    "#    for j in range(i + 1, len(nums)):  # Start j from i+1 to ensure i < j\n",
    "#        if nums[i] == nums[j]:\n",
    "#            l1.append((i, j))"
   ]
  },
  {
   "cell_type": "code",
   "execution_count": null,
   "id": "d996180e",
   "metadata": {},
   "outputs": [],
   "source": []
  },
  {
   "cell_type": "markdown",
   "id": "f11d2aa9",
   "metadata": {},
   "source": [
    "### 2942. Find Words Containing Character"
   ]
  },
  {
   "cell_type": "code",
   "execution_count": null,
   "id": "1219d972",
   "metadata": {},
   "outputs": [],
   "source": [
    "You are given a 0-indexed array of strings words and a character x.\n",
    "Return an array of indices representing the words that contain the character x.\n",
    "Note that the returned array may be in any order.\n",
    "\n",
    " \n",
    "\n",
    "Example 1:\n",
    "\n",
    "Input: words = [\"leet\",\"code\"], x = \"e\"\n",
    "Output: [0,1]\n",
    "Explanation: \"e\" occurs in both words: \"leet\", and \"code\". Hence, we return indices 0 and 1.\n",
    "Example 2:\n",
    "\n",
    "Input: words = [\"abc\",\"bcd\",\"aaaa\",\"cbc\"], x = \"a\"\n",
    "Output: [0,2]\n",
    "Explanation: \"a\" occurs in \"abc\", and \"aaaa\". Hence, we return indices 0 and 2.\n",
    "Example 3:\n",
    "\n",
    "Input: words = [\"abc\",\"bcd\",\"aaaa\",\"cbc\"], x = \"z\"\n",
    "Output: []\n",
    "Explanation: \"z\" does not occur in any of the words. Hence, we return an empty array.\n",
    " \n",
    "\n",
    "Constraints:\n",
    "\n",
    "1 <= words.length <= 50\n",
    "1 <= words[i].length <= 50\n",
    "x is a lowercase English letter.\n",
    "words[i] consists only of lowercase English letters."
   ]
  },
  {
   "cell_type": "code",
   "execution_count": 64,
   "id": "f1793846",
   "metadata": {},
   "outputs": [],
   "source": [
    "class Solution:\n",
    "    def findWord(self, words:list[str], x:str)->list[int]:\n",
    "        l1 = []\n",
    "        for i in range(len(words)):\n",
    "            if x in words[i]:\n",
    "                l1.append(i)\n",
    "        return l1"
   ]
  },
  {
   "cell_type": "code",
   "execution_count": 71,
   "id": "bf0aa2f5",
   "metadata": {},
   "outputs": [],
   "source": [
    "words = [\"abc\",\"bAd\",\"aaaa\",\"cbc\"]\n",
    "x = \"a\""
   ]
  },
  {
   "cell_type": "code",
   "execution_count": 72,
   "id": "cbcf1b9d",
   "metadata": {},
   "outputs": [],
   "source": [
    "solution = Solution()\n",
    "ab = solution.findWord(words,x)"
   ]
  },
  {
   "cell_type": "code",
   "execution_count": 73,
   "id": "cc4f3c42",
   "metadata": {},
   "outputs": [
    {
     "name": "stdout",
     "output_type": "stream",
     "text": [
      "[0, 2]\n"
     ]
    }
   ],
   "source": [
    "print(ab)"
   ]
  },
  {
   "cell_type": "code",
   "execution_count": null,
   "id": "591365fd",
   "metadata": {},
   "outputs": [],
   "source": []
  },
  {
   "cell_type": "markdown",
   "id": "f12d20cd",
   "metadata": {},
   "source": [
    "### 1470. Shuffle the Array"
   ]
  },
  {
   "cell_type": "code",
   "execution_count": null,
   "id": "2af0675a",
   "metadata": {},
   "outputs": [],
   "source": [
    "Given the array nums consisting of 2n elements in the form [x1,x2,...,xn,y1,y2,...,yn].\n",
    "Return the array in the form [x1,y1,x2,y2,...,xn,yn].\n",
    "\n",
    "\n",
    "Example 1:\n",
    "\n",
    "Input: nums = [2,5,1,3,4,7], n = 3\n",
    "Output: [2,3,5,4,1,7] \n",
    "Explanation: Since x1=2, x2=5, x3=1, y1=3, y2=4, y3=7 then the answer is [2,3,5,4,1,7].\n",
    "Example 2:\n",
    "\n",
    "Input: nums = [1,2,3,4,4,3,2,1], n = 4\n",
    "Output: [1,4,2,3,3,2,4,1]\n",
    "Example 3:\n",
    "\n",
    "Input: nums = [1,1,2,2], n = 2\n",
    "Output: [1,2,1,2]\n",
    " \n",
    "\n",
    "Constraints:\n",
    "\n",
    "1 <= n <= 500\n",
    "nums.length == 2n\n",
    "1 <= nums[i] <= 10^3"
   ]
  },
  {
   "cell_type": "code",
   "execution_count": 97,
   "id": "5ea9677b",
   "metadata": {},
   "outputs": [],
   "source": [
    "nums = [1,2,3,4,4,3,2,1]\n",
    "n = 4\n",
    "Output = [1,4,2,3,3,2,4,1]"
   ]
  },
  {
   "cell_type": "code",
   "execution_count": 98,
   "id": "c8e809bc",
   "metadata": {},
   "outputs": [],
   "source": [
    "class Solution:\n",
    "    def shuffleArray(self, nums:list[int], n:int) -> list[int]:\n",
    "        l1 = []\n",
    "        for i in range(len(nums)-n):\n",
    "            l1.append(nums[i])\n",
    "            for j in range(i+n,i+n+1):\n",
    "                l1.append(nums[j])\n",
    "        return l1\n",
    "    \n",
    "    def shuffleArray1(self, nums:list[int], n=int) -> list[int]:\n",
    "        l1 = []\n",
    "        half_len = len(nums)//2\n",
    "        for i in range(half_len):\n",
    "            for j in range(2):\n",
    "                index = i + (j%2)*half_len\n",
    "                l1.append(nums[index])\n",
    "        return l1\n",
    "    \n",
    "    def shuffleArray2(self, nums:list[int], n=int) -> list[int]:\n",
    "        f1 = nums[:n]\n",
    "        g1 = nums[n:]\n",
    "        l1 = []\n",
    "        for i in range(n):\n",
    "            l1.append(f1[i])\n",
    "            l1.append(g1[i])\n",
    "        return l1\n",
    "\n",
    "    def shuffleArray3(self, nums:list[int], n=int) -> list[int]:\n",
    "        #half_len = len(nums)//2\n",
    "        l1 = []\n",
    "        for i in range(n):\n",
    "            l1.append(nums[i])\n",
    "            l1.append(nums[i+n])\n",
    "            \n",
    "        return l1"
   ]
  },
  {
   "cell_type": "code",
   "execution_count": 99,
   "id": "57b61e42",
   "metadata": {},
   "outputs": [],
   "source": [
    "solution = Solution()\n",
    "ab = solution.shuffleArray3(nums,n)"
   ]
  },
  {
   "cell_type": "code",
   "execution_count": 100,
   "id": "068ae831",
   "metadata": {},
   "outputs": [
    {
     "data": {
      "text/plain": [
       "[1, 4, 2, 3, 3, 2, 4, 1]"
      ]
     },
     "execution_count": 100,
     "metadata": {},
     "output_type": "execute_result"
    }
   ],
   "source": [
    "ab"
   ]
  },
  {
   "cell_type": "code",
   "execution_count": null,
   "id": "aac5840a",
   "metadata": {},
   "outputs": [],
   "source": []
  },
  {
   "cell_type": "markdown",
   "id": "15187f6a",
   "metadata": {},
   "source": [
    "### 1672. Richest Customer Wealth"
   ]
  },
  {
   "cell_type": "raw",
   "id": "6c6b101e",
   "metadata": {},
   "source": [
    "juYou are given an m x n integer grid accounts where accounts[i][j] is the amount of money the ith customer has in the jth bank. Return the wealth that the richest customer has.\n",
    "A customer's wealth is the amount of money they have in all their bank accounts. The richest customer is the customer that has the maximum wealth.\n",
    "\n",
    " \n",
    "\n",
    "Example 1:\n",
    "\n",
    "Input: accounts = [[1,2,3],[3,2,1]]\n",
    "Output: 6\n",
    "Explanation:\n",
    "1st customer has wealth = 1 + 2 + 3 = 6\n",
    "2nd customer has wealth = 3 + 2 + 1 = 6\n",
    "Both customers are considered the richest with a wealth of 6 each, so return 6.\n",
    "Example 2:\n",
    "\n",
    "Input: accounts = [[1,5],[7,3],[3,5]]\n",
    "Output: 10\n",
    "Explanation: \n",
    "1st customer has wealth = 6\n",
    "2nd customer has wealth = 10 \n",
    "3rd customer has wealth = 8\n",
    "The 2nd customer is the richest with a wealth of 10.\n",
    "Example 3:\n",
    "\n",
    "Input: accounts = [[2,8,7],[7,1,3],[1,9,5]]\n",
    "Output: 17\n",
    " \n",
    "\n",
    "Constraints:\n",
    "\n",
    "m == accounts.length\n",
    "n == accounts[i].length\n",
    "1 <= m, n <= 50\n",
    "1 <= accounts[i][j] <= 100"
   ]
  },
  {
   "cell_type": "code",
   "execution_count": 174,
   "id": "4a66a288",
   "metadata": {},
   "outputs": [],
   "source": [
    "accounts = [[2,8,7],[7,1,3],[1,9,5]]\n",
    "Output = 10"
   ]
  },
  {
   "cell_type": "code",
   "execution_count": 175,
   "id": "760000d7",
   "metadata": {},
   "outputs": [],
   "source": [
    "class Solution:\n",
    "    def maximumWealth(self, accounts:list[list[int]])->int:\n",
    "        a = 0\n",
    "        for i in range(len(accounts)):\n",
    "            ac_sum = sum(accounts[i])\n",
    "            if ac_sum > a:\n",
    "                a = ac_sum\n",
    "        return a\n",
    "    \n",
    "    def maximumWealth2(self, accounts:list[list[int]])->int:\n",
    "        l1 = []\n",
    "        for i in range(len(accounts)):\n",
    "            l1.append(sum(accounts[i]))\n",
    "        return max(l1)\n",
    "    \n",
    "    def maximumWealth3(self, accounts:list[list[int]])->int:\n",
    "        return max([sum(accounts[i]) for i in range(len(accounts))])"
   ]
  },
  {
   "cell_type": "code",
   "execution_count": 176,
   "id": "e7c5dd3b",
   "metadata": {},
   "outputs": [
    {
     "name": "stdout",
     "output_type": "stream",
     "text": [
      "17\n"
     ]
    }
   ],
   "source": [
    "object_1 = Solution()\n",
    "ab = object_1.maximumWealth3(accounts)\n",
    "print(ab)"
   ]
  },
  {
   "cell_type": "code",
   "execution_count": 157,
   "id": "3673ba86",
   "metadata": {},
   "outputs": [
    {
     "data": {
      "text/plain": [
       "17"
      ]
     },
     "execution_count": 157,
     "metadata": {},
     "output_type": "execute_result"
    }
   ],
   "source": [
    "sum(accounts[0])"
   ]
  },
  {
   "cell_type": "code",
   "execution_count": null,
   "id": "fd7d305e",
   "metadata": {},
   "outputs": [],
   "source": [
    "class Solution:\n",
    "    def maximumWealth(self, accounts: list[list[int]]) -> int:\n",
    "        a = 0  # This will store the maximum wealth\n",
    "        for i in range(len(accounts)):\n",
    "            ac_sum = sum(accounts[i])  # Calculate the wealth of the current customer\n",
    "            if ac_sum > a:  # Check if this wealth is greater than the current max\n",
    "                a = ac_sum  # Update the max wealth\n",
    "        return a  # Return the maximum wealth"
   ]
  },
  {
   "cell_type": "code",
   "execution_count": null,
   "id": "8e18d790",
   "metadata": {},
   "outputs": [],
   "source": []
  },
  {
   "cell_type": "markdown",
   "id": "15483075",
   "metadata": {},
   "source": [
    "### 3289. The Two Sneaky Numbers of Digitville"
   ]
  },
  {
   "cell_type": "raw",
   "id": "adae5e8e",
   "metadata": {},
   "source": [
    "In the town of Digitville, there was a list of numbers called nums containing integers from 0 to n - 1. Each number was supposed to appear exactly once in the list, however, two mischievous numbers sneaked in an additional time, making the list longer than usual.\n",
    "As the town detective, your task is to find these two sneaky numbers. Return an array of size two containing the two numbers (in any order), so peace can return to Digitville.\n",
    "\n",
    " \n",
    "Example 1:\n",
    "Input: nums = [0,1,1,0]         Output: [0,1]\n",
    "Explanation:\n",
    "The numbers 0 and 1 each appear twice in the array.\n",
    "\n",
    "Example 2:\n",
    "Input: nums = [0,3,2,1,3,2]    Output: [2,3]\n",
    "Explanation:\n",
    "The numbers 2 and 3 each appear twice in the array.\n",
    "\n",
    "Example 3:\n",
    "Input: nums = [7,1,5,4,3,4,6,0,9,5,8,2]        Output: [4,5]\n",
    "Explanation:\n",
    "The numbers 4 and 5 each appear twice in the array.\n",
    "\n",
    "Constraints:\n",
    "2 <= n <= 100                nums.length == n + 2            0 <= nums[i] < n\n",
    "The input is generated such that nums contains exactly two repeated elements."
   ]
  },
  {
   "cell_type": "code",
   "execution_count": null,
   "id": "8ccdd2a4",
   "metadata": {},
   "outputs": [],
   "source": [
    "step 1 : list maintain data\n",
    "step 2 : checking no\n",
    "step 3 : new list and add tht no"
   ]
  },
  {
   "cell_type": "code",
   "execution_count": 4,
   "id": "78003158",
   "metadata": {},
   "outputs": [],
   "source": [
    "def rep(nums):\n",
    "    cont1=[]\n",
    "    cont2=[]\n",
    "    for i in range(len(nums)-1):\n",
    "        cont1.append(nums[i])\n",
    "        if nums[i] in cont1:\n",
    "            cont2.append(nums[i])\n",
    "        continue\n",
    "    return cont2\n",
    "    "
   ]
  },
  {
   "cell_type": "code",
   "execution_count": 43,
   "id": "8f9ffa18",
   "metadata": {},
   "outputs": [],
   "source": [
    "class Solution:\n",
    "    \n",
    "    def sneakyNumbers(self, nums:list[int]) -> list[int]:\n",
    "        cont1 = []\n",
    "        for i in range(len(nums)):\n",
    "            for j in range(len(nums)):\n",
    "                if nums[i] == nums[j] and i!=j:\n",
    "                    cont1.append(nums[i])\n",
    "        return list(set(cont1))\n",
    "    \n",
    "    def sneakyNumbers1(self, nums:list[int]) -> list[int]:\n",
    "        cont1 = []\n",
    "        for i in nums:\n",
    "            if nums.count(i) > 1:\n",
    "                cont1.append(i)\n",
    "        return cont1\n",
    "    \n",
    "    def sneakyNumbers2(self, nums:list[int]) -> list[int]:\n",
    "        cont1 = [i for i in nums if nums.count(i)>1]\n",
    "        \n",
    "        return list(set(cont1))"
   ]
  },
  {
   "cell_type": "code",
   "execution_count": 44,
   "id": "822e35b2",
   "metadata": {},
   "outputs": [],
   "source": [
    "solution = Solution()\n",
    "ab = solution.sneakyNumbers2(nums)\n",
    "\n",
    "\n",
    "nums = [7,1,5,4,3,4,6,0,9,5,8,2]"
   ]
  },
  {
   "cell_type": "code",
   "execution_count": 45,
   "id": "d171ea23",
   "metadata": {},
   "outputs": [],
   "source": []
  },
  {
   "cell_type": "markdown",
   "id": "6160a993",
   "metadata": {},
   "source": [
    "### 1470. Shuffle the Array"
   ]
  },
  {
   "cell_type": "raw",
   "id": "49f4a101",
   "metadata": {},
   "source": [
    "Given the array nums consisting of 2n elements in the form [x1,x2,...,xn,y1,y2,...,yn].\n",
    "Return the array in the form [x1,y1,x2,y2,...,xn,yn].\n",
    "\n",
    "Example 1:\n",
    "\n",
    "Input: nums = [2,5,1,3,4,7], n = 3              Output: [2,3,5,4,1,7] \n",
    "Explanation: Since x1=2, x2=5, x3=1, y1=3, y2=4, y3=7 then the answer is [2,3,5,4,1,7].\n",
    "\n",
    "Example 2:\n",
    "Input: nums = [1,2,3,4,4,3,2,1], n = 4          Output: [1,4,2,3,3,2,4,1]\n",
    "\n",
    "Example 3:\n",
    "Input: nums = [1,1,2,2], n = 2                  Output: [1,2,1,2]\n",
    " \n",
    "Constraints:\n",
    "\n",
    "1 <= n <= 500\n",
    "nums.length == 2n\n",
    "1 <= nums[i] <= 10^3"
   ]
  },
  {
   "cell_type": "code",
   "execution_count": null,
   "id": "f35056d7",
   "metadata": {},
   "outputs": [],
   "source": [
    "class Solution:\n",
    "    def Shuffle_the_Array(self, nums:list[int], n:int) -> list[int]:\n",
    "        cont1 = []\n",
    "        for i in range(len(nums)):\n",
    "            cont1.append(nums[i])\n",
    "            for j in range(n,i+n):\n",
    "                cont1.append(nums[j])\n",
    "        return cont1\n",
    "            \n",
    "        \n",
    "    "
   ]
  },
  {
   "cell_type": "code",
   "execution_count": 75,
   "id": "fa24985a",
   "metadata": {},
   "outputs": [],
   "source": [
    "class Solution:\n",
    "    def Shuffle_the_Array(self, nums:list[int], n:int) -> list[int]:\n",
    "        cont1 = nums[:n]\n",
    "        cont2 = nums[n:]\n",
    "        cont3 = []\n",
    "        for i in range(n):\n",
    "            cont3.append(cont1[i])\n",
    "            cont3.append(cont2[i])\n",
    "        return cont3\n",
    "    \n",
    "    def Shuffle_the_Array2(self, nums:list[int], n:int) -> list[int]:\n",
    "        cont1 = []\n",
    "        for i in range(n):\n",
    "            cont1.append(nums[i])\n",
    "            for j in range(n+i,n+i+1):\n",
    "                cont1.append(nums[j])\n",
    "        return cont1\n",
    "    \n",
    "    def Shuffle_the_Array3(self, nums:list[int]) -> list[int]:\n",
    "        half_len = len(nums)//2\n",
    "        cont1 = []\n",
    "        \n",
    "        for i in range(len(nums)):\n",
    "            c = (i%2) * half_len\n",
    "            cont1.append(nums[c])\n",
    "        return cont1"
   ]
  },
  {
   "cell_type": "code",
   "execution_count": null,
   "id": "8f681bc9",
   "metadata": {},
   "outputs": [],
   "source": []
  },
  {
   "cell_type": "code",
   "execution_count": 76,
   "id": "d4dcba64",
   "metadata": {},
   "outputs": [],
   "source": [
    "nums = [2,5,1,3,4,7]  #0.1.2.3.4.5\n",
    "n = 3              \n",
    "#Output: [2,3,5,4,1,7] #0.3.1.4.2.5"
   ]
  },
  {
   "cell_type": "code",
   "execution_count": 77,
   "id": "b478a07a",
   "metadata": {},
   "outputs": [
    {
     "name": "stdout",
     "output_type": "stream",
     "text": [
      "[2, 3, 2, 3, 2, 3]\n"
     ]
    }
   ],
   "source": [
    "solution = Solution()\n",
    "ab = solution.Shuffle_the_Array3(nums)\n",
    "print(ab)"
   ]
  },
  {
   "cell_type": "code",
   "execution_count": 67,
   "id": "ecaaaafa",
   "metadata": {},
   "outputs": [
    {
     "data": {
      "text/plain": [
       "1"
      ]
     },
     "execution_count": 67,
     "metadata": {},
     "output_type": "execute_result"
    }
   ],
   "source": [
    "1%2"
   ]
  },
  {
   "cell_type": "code",
   "execution_count": null,
   "id": "fb968e8d",
   "metadata": {},
   "outputs": [],
   "source": []
  },
  {
   "cell_type": "markdown",
   "id": "cbe78aaf",
   "metadata": {},
   "source": [
    "### 2373. 1684. Count the Number of Consistent Strings"
   ]
  },
  {
   "cell_type": "raw",
   "id": "4213ed16",
   "metadata": {},
   "source": [
    "You are given a string allowed consisting of distinct characters and an array of strings words. A string is consistent if all\n",
    "characters in the string appear in the string allowed.Return the number of consistent strings in the array words.\n",
    "\n",
    "Example 1:\n",
    "\n",
    "Input: allowed = \"ab\", words = [\"ad\",\"bd\",\"aaab\",\"baa\",\"badab\"]\n",
    "Output: 2\n",
    "Explanation: Strings \"aaab\" and \"baa\" are consistent since they only contain characters 'a' and 'b'.\n",
    "Example 2:\n",
    "\n",
    "Input: allowed = \"abc\", words = [\"a\",\"b\",\"c\",\"ab\",\"ac\",\"bc\",\"abc\"]\n",
    "Output: 7\n",
    "Explanation: All strings are consistent.\n",
    "Example 3:\n",
    "\n",
    "Input: allowed = \"cad\", words = [\"cc\",\"acd\",\"b\",\"ba\",\"bac\",\"bad\",\"ac\",\"d\"]\n",
    "Output: 4\n",
    "Explanation: Strings \"cc\", \"acd\", \"ac\", and \"d\" are consistent.\n",
    " \n",
    "\n",
    "Constraints:\n",
    "\n",
    "1 <= words.length <= 104\n",
    "1 <= allowed.length <= 26\n",
    "1 <= words[i].length <= 10\n",
    "The characters in allowed are distinct.\n",
    "words[i] and allowed contain only lowercase English letters."
   ]
  },
  {
   "cell_type": "code",
   "execution_count": 201,
   "id": "ada8e1d2",
   "metadata": {},
   "outputs": [],
   "source": [
    "allowed = \"cad\"\n",
    "words = [\"cc\",\"acd\",\"b\",\"ba\",\"bac\",\"bad\",\"ac\",\"d\"]"
   ]
  },
  {
   "cell_type": "code",
   "execution_count": 199,
   "id": "8375cc67",
   "metadata": {},
   "outputs": [],
   "source": [
    "class Solution:\n",
    "    def Consistentstrings(self, allowed:str, words:list[str])->int:\n",
    "        c = len(words)\n",
    "        for iteam in words:\n",
    "            for char in iteam:\n",
    "                if char not in allowed:\n",
    "                    c-=1\n",
    "                    break\n",
    "        return c"
   ]
  },
  {
   "cell_type": "code",
   "execution_count": 202,
   "id": "9eef6b28",
   "metadata": {},
   "outputs": [
    {
     "name": "stdout",
     "output_type": "stream",
     "text": [
      "4\n"
     ]
    }
   ],
   "source": [
    "solution = Solution()\n",
    "ab = solution.Consistentstrings(allowed,words)\n",
    "print(ab)"
   ]
  },
  {
   "cell_type": "code",
   "execution_count": 146,
   "id": "783b0940",
   "metadata": {},
   "outputs": [
    {
     "data": {
      "text/plain": [
       "[1, 2, 3, 4, 5, 6, 7, 8, 9]"
      ]
     },
     "execution_count": 146,
     "metadata": {},
     "output_type": "execute_result"
    }
   ],
   "source": [
    "l1"
   ]
  },
  {
   "cell_type": "code",
   "execution_count": 70,
   "id": "85572d82",
   "metadata": {},
   "outputs": [],
   "source": [
    "input_list = [1,2,3,4,[5,6,[7,9]],8,9]\n",
    "output_list= [1,2,3,4,5,6,7,8,9]\n",
    "\n",
    "\n",
    "def flatten(input_list):\n",
    "    output_list = []\n",
    "    for item in input_list:\n",
    "        if isinstance(item, list):\n",
    "            output_list.extend(flatten(item))  # Recursively flatten the sublist\n",
    "        else:\n",
    "            output_list.append(item)  # Append non-list items directly\n",
    "    return output_list\n",
    "\n",
    "l1 = []\n",
    "for i in input_list:\n",
    "    if type(i) == int:\n",
    "        l1.append(i)\n",
    "    else:\n",
    "        for j in i:\n",
    "            l1.append(j)\n",
    "\n",
    "        \n",
    "def flatten(input_list):\n",
    "    l1 = []\n",
    "    for i in input_list:\n",
    "        if isinstance(i,list):\n",
    "            l1.extend(flatten(i))\n",
    "        else:\n",
    "            l1.append(i)\n",
    "    return l1"
   ]
  },
  {
   "cell_type": "code",
   "execution_count": 172,
   "id": "6b04bd9b",
   "metadata": {},
   "outputs": [],
   "source": []
  },
  {
   "cell_type": "markdown",
   "id": "d8469924",
   "metadata": {},
   "source": [
    "### 2373. Largest Local Values in a Matrix"
   ]
  },
  {
   "cell_type": "raw",
   "id": "688d1912",
   "metadata": {},
   "source": [
    "You are given an n x n integer matrix grid.\n",
    "Generate an integer matrix maxLocal of size (n - 2) x (n - 2) such that:\n",
    "maxLocal[i][j] is equal to the largest value of the 3 x 3 matrix in grid centered around row i + 1 and column j + 1.\n",
    "In other words, we want to find the largest value in every contiguous 3 x 3 matrix in grid.\n",
    "Return the generated matrix.\n",
    "\n",
    "Example 1:\n",
    "Input: grid = [[9,9,8,1],[5,6,2,6],[8,2,6,4],[6,2,2,2]]\n",
    "Output: [[9,9],[8,6]]\n",
    "Explanation: The diagram above shows the original matrix and the generated matrix.\n",
    "Notice that each value in the generated matrix corresponds to the largest value of a contiguous 3 x 3 matrix in grid.\n",
    "\n",
    "Example 2:\n",
    "Input: grid = [[1,1,1,1,1],[1,1,1,1,1],[1,1,2,1,1],[1,1,1,1,1],[1,1,1,1,1]]\n",
    "Output: [[2,2,2],[2,2,2],[2,2,2]]\n",
    "Explanation: Notice that the 2 is contained within every contiguous 3 x 3 matrix in grid."
   ]
  },
  {
   "cell_type": "code",
   "execution_count": 17,
   "id": "96836f74",
   "metadata": {},
   "outputs": [],
   "source": [
    "class Solution:\n",
    "    def largestLocal(self, grid:list[list[int]])->list[list[int]]:\n",
    "        n = len(grid)\n",
    "        result = [0] * (n-2)\n",
    "        \n",
    "        for i in range(n-2):\n",
    "            result[i] = [0] * (n-2)\n",
    "            \n",
    "        for j in range(n-2):\n",
    "            for k in range(n-2):\n",
    "                c_max = 0\n",
    "                for l in range(j,3+j):\n",
    "                    for m in range(k,3+k):\n",
    "                        if grid[l][m] > c_max:\n",
    "                            c_max = grid[l][m]\n",
    "                result[j][k] = c_max\n",
    "        return result"
   ]
  },
  {
   "cell_type": "code",
   "execution_count": 13,
   "id": "6c8eea7a",
   "metadata": {},
   "outputs": [],
   "source": [
    "result = [0]*2"
   ]
  },
  {
   "cell_type": "code",
   "execution_count": 18,
   "id": "cca630a2",
   "metadata": {},
   "outputs": [
    {
     "name": "stdout",
     "output_type": "stream",
     "text": [
      "[[9, 9], [8, 6]]\n"
     ]
    }
   ],
   "source": [
    "solution = Solution()\n",
    "ab = solution.largestLocal(grid)\n",
    "print(ab)"
   ]
  },
  {
   "cell_type": "code",
   "execution_count": 10,
   "id": "1da2c586",
   "metadata": {},
   "outputs": [],
   "source": [
    "grid = [[9,9,8,1],[5,6,2,6],[8,2,6,4],[6,2,2,2]]"
   ]
  },
  {
   "cell_type": "code",
   "execution_count": 20,
   "id": "e3e8656d",
   "metadata": {},
   "outputs": [],
   "source": [
    "l1 = [9,5,8,1]"
   ]
  },
  {
   "cell_type": "code",
   "execution_count": 23,
   "id": "418c584d",
   "metadata": {},
   "outputs": [],
   "source": [
    "l1 = [9,5,8,1]\n",
    "opt=0\n",
    "for i in l1:\n",
    "    if i>opt:\n",
    "        opt=i"
   ]
  },
  {
   "cell_type": "code",
   "execution_count": 24,
   "id": "4338805e",
   "metadata": {},
   "outputs": [
    {
     "name": "stdout",
     "output_type": "stream",
     "text": [
      "9\n"
     ]
    }
   ],
   "source": [
    "print(opt)"
   ]
  },
  {
   "cell_type": "code",
   "execution_count": null,
   "id": "090a62fc",
   "metadata": {},
   "outputs": [],
   "source": []
  },
  {
   "cell_type": "code",
   "execution_count": null,
   "id": "41882fa2",
   "metadata": {},
   "outputs": [],
   "source": []
  }
 ],
 "metadata": {
  "kernelspec": {
   "display_name": "Python 3 (ipykernel)",
   "language": "python",
   "name": "python3"
  },
  "language_info": {
   "codemirror_mode": {
    "name": "ipython",
    "version": 3
   },
   "file_extension": ".py",
   "mimetype": "text/x-python",
   "name": "python",
   "nbconvert_exporter": "python",
   "pygments_lexer": "ipython3",
   "version": "3.9.7"
  }
 },
 "nbformat": 4,
 "nbformat_minor": 5
}
